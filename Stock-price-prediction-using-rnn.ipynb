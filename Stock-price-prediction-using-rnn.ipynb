{
 "cells": [
  {
   "cell_type": "code",
   "execution_count": 1,
   "metadata": {
    "_execution_state": "idle",
    "_uuid": "051d70d956493feee0c6d64651c6a088724dca2a",
    "execution": {
     "iopub.execute_input": "2023-01-27T04:21:13.452495Z",
     "iopub.status.busy": "2023-01-27T04:21:13.450755Z",
     "iopub.status.idle": "2023-01-27T04:21:13.480437Z",
     "shell.execute_reply": "2023-01-27T04:21:13.479422Z",
     "shell.execute_reply.started": "2023-01-27T04:21:13.452316Z"
    }
   },
   "outputs": [],
   "source": [
    "import numpy as np\n",
    "import matplotlib.pyplot as plt\n",
    "import pandas as pd"
   ]
  },
  {
   "cell_type": "code",
   "execution_count": 2,
   "metadata": {
    "execution": {
     "iopub.execute_input": "2023-01-27T04:21:16.457449Z",
     "iopub.status.busy": "2023-01-27T04:21:16.456892Z",
     "iopub.status.idle": "2023-01-27T04:21:16.501838Z",
     "shell.execute_reply": "2023-01-27T04:21:16.500569Z",
     "shell.execute_reply.started": "2023-01-27T04:21:16.457406Z"
    }
   },
   "outputs": [],
   "source": [
    "dataset_train = pd.read_csv('dataset/Google_Stock_Price_Train.csv')\n",
    "training_set = dataset_train.iloc[:, 1:2].values"
   ]
  },
  {
   "cell_type": "code",
   "execution_count": 3,
   "metadata": {
    "execution": {
     "iopub.execute_input": "2023-01-27T04:21:28.532561Z",
     "iopub.status.busy": "2023-01-27T04:21:28.532113Z",
     "iopub.status.idle": "2023-01-27T04:21:29.089829Z",
     "shell.execute_reply": "2023-01-27T04:21:29.088324Z",
     "shell.execute_reply.started": "2023-01-27T04:21:28.532526Z"
    }
   },
   "outputs": [],
   "source": [
    "from sklearn.preprocessing import MinMaxScaler\n",
    "sc = MinMaxScaler(feature_range = (0, 1))\n",
    "training_set_scaled = sc.fit_transform(training_set)"
   ]
  },
  {
   "cell_type": "code",
   "execution_count": 4,
   "metadata": {
    "execution": {
     "iopub.execute_input": "2023-01-27T04:21:29.225226Z",
     "iopub.status.busy": "2023-01-27T04:21:29.224643Z",
     "iopub.status.idle": "2023-01-27T04:21:29.238906Z",
     "shell.execute_reply": "2023-01-27T04:21:29.237391Z",
     "shell.execute_reply.started": "2023-01-27T04:21:29.225180Z"
    }
   },
   "outputs": [],
   "source": [
    "X_train = []\n",
    "y_train = []\n",
    "for i in range(60, 1258):\n",
    "    X_train.append(training_set_scaled[i-60:i, 0])\n",
    "    y_train.append(training_set_scaled[i, 0])\n",
    "X_train, y_train = np.array(X_train), np.array(y_train)\n",
    "X_train = np.reshape(X_train, (X_train.shape[0], X_train.shape[1], 1))"
   ]
  },
  {
   "cell_type": "code",
   "execution_count": 5,
   "metadata": {
    "execution": {
     "iopub.execute_input": "2023-01-27T04:21:40.746676Z",
     "iopub.status.busy": "2023-01-27T04:21:40.746220Z",
     "iopub.status.idle": "2023-01-27T04:21:46.757176Z",
     "shell.execute_reply": "2023-01-27T04:21:46.755942Z",
     "shell.execute_reply.started": "2023-01-27T04:21:40.746641Z"
    }
   },
   "outputs": [],
   "source": [
    "from keras.models import Sequential\n",
    "from keras.layers import Dense\n",
    "from keras.layers import LSTM\n",
    "from keras.layers import Dropout"
   ]
  },
  {
   "cell_type": "code",
   "execution_count": 6,
   "metadata": {
    "execution": {
     "iopub.execute_input": "2023-01-27T04:21:46.760389Z",
     "iopub.status.busy": "2023-01-27T04:21:46.759524Z",
     "iopub.status.idle": "2023-01-27T04:21:46.822942Z",
     "shell.execute_reply": "2023-01-27T04:21:46.822022Z",
     "shell.execute_reply.started": "2023-01-27T04:21:46.760311Z"
    }
   },
   "outputs": [],
   "source": [
    "regressor = Sequential()"
   ]
  },
  {
   "cell_type": "code",
   "execution_count": 7,
   "metadata": {
    "execution": {
     "iopub.execute_input": "2023-01-27T04:21:48.895137Z",
     "iopub.status.busy": "2023-01-27T04:21:48.894659Z",
     "iopub.status.idle": "2023-01-27T04:21:49.250996Z",
     "shell.execute_reply": "2023-01-27T04:21:49.250002Z",
     "shell.execute_reply.started": "2023-01-27T04:21:48.895093Z"
    }
   },
   "outputs": [],
   "source": [
    "regressor.add(LSTM(units = 50, return_sequences = True, input_shape = (X_train.shape[1], 1)))\n",
    "regressor.add(Dropout(0.2))"
   ]
  },
  {
   "cell_type": "code",
   "execution_count": 8,
   "metadata": {
    "execution": {
     "iopub.execute_input": "2023-01-27T04:21:54.864050Z",
     "iopub.status.busy": "2023-01-27T04:21:54.863651Z",
     "iopub.status.idle": "2023-01-27T04:21:55.104637Z",
     "shell.execute_reply": "2023-01-27T04:21:55.103532Z",
     "shell.execute_reply.started": "2023-01-27T04:21:54.864020Z"
    }
   },
   "outputs": [],
   "source": [
    "regressor.add(LSTM(units = 50, return_sequences = True))\n",
    "regressor.add(Dropout(0.2))"
   ]
  },
  {
   "cell_type": "code",
   "execution_count": 9,
   "metadata": {
    "execution": {
     "iopub.execute_input": "2023-01-27T04:21:59.793992Z",
     "iopub.status.busy": "2023-01-27T04:21:59.793532Z",
     "iopub.status.idle": "2023-01-27T04:22:00.041841Z",
     "shell.execute_reply": "2023-01-27T04:22:00.040570Z",
     "shell.execute_reply.started": "2023-01-27T04:21:59.793949Z"
    }
   },
   "outputs": [],
   "source": [
    "regressor.add(LSTM(units = 50, return_sequences = True))\n",
    "regressor.add(Dropout(0.2))"
   ]
  },
  {
   "cell_type": "code",
   "execution_count": 10,
   "metadata": {
    "execution": {
     "iopub.execute_input": "2023-01-27T04:22:06.248894Z",
     "iopub.status.busy": "2023-01-27T04:22:06.248490Z",
     "iopub.status.idle": "2023-01-27T04:22:06.504099Z",
     "shell.execute_reply": "2023-01-27T04:22:06.502816Z",
     "shell.execute_reply.started": "2023-01-27T04:22:06.248864Z"
    }
   },
   "outputs": [],
   "source": [
    "regressor.add(LSTM(units = 50))\n",
    "regressor.add(Dropout(0.2))"
   ]
  },
  {
   "cell_type": "code",
   "execution_count": 11,
   "metadata": {
    "execution": {
     "iopub.execute_input": "2023-01-27T04:22:11.837290Z",
     "iopub.status.busy": "2023-01-27T04:22:11.836842Z",
     "iopub.status.idle": "2023-01-27T04:22:11.854937Z",
     "shell.execute_reply": "2023-01-27T04:22:11.853600Z",
     "shell.execute_reply.started": "2023-01-27T04:22:11.837257Z"
    }
   },
   "outputs": [],
   "source": [
    "regressor.add(Dense(units = 1))"
   ]
  },
  {
   "cell_type": "code",
   "execution_count": 12,
   "metadata": {
    "execution": {
     "iopub.execute_input": "2023-01-27T04:22:17.072453Z",
     "iopub.status.busy": "2023-01-27T04:22:17.071978Z",
     "iopub.status.idle": "2023-01-27T04:22:17.089331Z",
     "shell.execute_reply": "2023-01-27T04:22:17.088344Z",
     "shell.execute_reply.started": "2023-01-27T04:22:17.072416Z"
    }
   },
   "outputs": [],
   "source": [
    "regressor.compile(optimizer = 'adam', loss = 'mean_squared_error')"
   ]
  },
  {
   "cell_type": "code",
   "execution_count": 13,
   "metadata": {
    "execution": {
     "iopub.execute_input": "2023-01-27T04:23:07.867064Z",
     "iopub.status.busy": "2023-01-27T04:23:07.866639Z",
     "iopub.status.idle": "2023-01-27T04:24:18.180279Z",
     "shell.execute_reply": "2023-01-27T04:24:18.178978Z",
     "shell.execute_reply.started": "2023-01-27T04:23:07.867032Z"
    }
   },
   "outputs": [
    {
     "name": "stdout",
     "output_type": "stream",
     "text": [
      "Epoch 1/10\n",
      "38/38 [==============================] - 18s 159ms/step - loss: 0.0319\n",
      "Epoch 2/10\n",
      "38/38 [==============================] - 7s 181ms/step - loss: 0.0059\n",
      "Epoch 3/10\n",
      "38/38 [==============================] - 6s 163ms/step - loss: 0.0054\n",
      "Epoch 4/10\n",
      "38/38 [==============================] - 6s 155ms/step - loss: 0.0048\n",
      "Epoch 5/10\n",
      "38/38 [==============================] - 6s 155ms/step - loss: 0.0047\n",
      "Epoch 6/10\n",
      "38/38 [==============================] - 6s 155ms/step - loss: 0.0045\n",
      "Epoch 7/10\n",
      "38/38 [==============================] - 6s 149ms/step - loss: 0.0047\n",
      "Epoch 8/10\n",
      "38/38 [==============================] - 6s 145ms/step - loss: 0.0047\n",
      "Epoch 9/10\n",
      "38/38 [==============================] - 6s 147ms/step - loss: 0.0040\n",
      "Epoch 10/10\n",
      "38/38 [==============================] - 6s 172ms/step - loss: 0.0045\n"
     ]
    },
    {
     "data": {
      "text/plain": [
       "<keras.callbacks.History at 0x1f5fe528850>"
      ]
     },
     "execution_count": 13,
     "metadata": {},
     "output_type": "execute_result"
    }
   ],
   "source": [
    "regressor.fit(X_train, y_train, epochs = 10, batch_size = 32)"
   ]
  },
  {
   "cell_type": "code",
   "execution_count": 14,
   "metadata": {
    "execution": {
     "iopub.execute_input": "2023-01-27T04:25:08.050887Z",
     "iopub.status.busy": "2023-01-27T04:25:08.048898Z",
     "iopub.status.idle": "2023-01-27T04:25:08.074174Z",
     "shell.execute_reply": "2023-01-27T04:25:08.073013Z",
     "shell.execute_reply.started": "2023-01-27T04:25:08.050832Z"
    }
   },
   "outputs": [],
   "source": [
    "dataset_test = pd.read_csv('dataset/Google_Stock_Price_Test.csv')\n",
    "real_stock_price = dataset_test.iloc[:, 1:2].values"
   ]
  },
  {
   "cell_type": "code",
   "execution_count": 15,
   "metadata": {
    "execution": {
     "iopub.execute_input": "2023-01-27T04:25:09.230026Z",
     "iopub.status.busy": "2023-01-27T04:25:09.228858Z",
     "iopub.status.idle": "2023-01-27T04:25:11.048362Z",
     "shell.execute_reply": "2023-01-27T04:25:11.047345Z",
     "shell.execute_reply.started": "2023-01-27T04:25:09.229977Z"
    }
   },
   "outputs": [],
   "source": [
    "dataset_total = pd.concat((dataset_train['Open'], dataset_test['Open']), axis = 0)\n",
    "inputs = dataset_total[len(dataset_total) - len(dataset_test) - 60:].values\n",
    "inputs = inputs.reshape(-1,1)\n",
    "inputs = sc.transform(inputs)\n",
    "X_test = []\n",
    "for i in range(60, 80):\n",
    "    X_test.append(inputs[i-60:i, 0])\n",
    "X_test = np.array(X_test)\n",
    "X_test = np.reshape(X_test, (X_test.shape[0], X_test.shape[1], 1))\n",
    "predicted_stock_price = regressor.predict(X_test)\n",
    "predicted_stock_price = sc.inverse_transform(predicted_stock_price)"
   ]
  },
  {
   "cell_type": "code",
   "execution_count": 16,
   "metadata": {
    "execution": {
     "iopub.execute_input": "2023-01-27T04:25:11.051766Z",
     "iopub.status.busy": "2023-01-27T04:25:11.050572Z",
     "iopub.status.idle": "2023-01-27T04:25:11.316800Z",
     "shell.execute_reply": "2023-01-27T04:25:11.315404Z",
     "shell.execute_reply.started": "2023-01-27T04:25:11.051720Z"
    }
   },
   "outputs": [
    {
     "data": {
      "image/png": "[encoded data removed]",
      "text/plain": [
       "<Figure size 432x288 with 1 Axes>"
      ]
     },
     "metadata": {
      "needs_background": "light"
     },
     "output_type": "display_data"
    }
   ],
   "source": [
    "plt.plot(real_stock_price, color = 'red', label = 'Real Google Stock Price')\n",
    "plt.plot(predicted_stock_price, color = 'blue', label = 'Predicted Google Stock Price')\n",
    "plt.title('Google Stock Price Prediction')\n",
    "plt.xlabel('Time')\n",
    "plt.ylabel('Google Stock Price')\n",
    "plt.legend()\n",
    "plt.show()"
   ]
  }
 ],
 "metadata": {
  "kernelspec": {
   "display_name": "Python 3",
   "language": "python",
   "name": "python3"
  },
  "language_info": {
   "codemirror_mode": {
    "name": "ipython",
    "version": 3
   },
   "file_extension": ".py",
   "mimetype": "text/x-python",
   "name": "python",
   "nbconvert_exporter": "python",
   "pygments_lexer": "ipython3",
   "version": "3.8.5"
  }
 },
 "nbformat": 4,
 "nbformat_minor": 4
}
